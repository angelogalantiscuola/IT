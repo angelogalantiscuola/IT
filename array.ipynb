{
 "cells": [
  {
   "cell_type": "code",
   "execution_count": 2,
   "metadata": {},
   "outputs": [
    {
     "name": "stdout",
     "output_type": "stream",
     "text": [
      "[1 2 3 4 5]\n"
     ]
    }
   ],
   "source": [
    "import numpy as np\n",
    "\n",
    "arr = np7.array([1, 2, 3, 4, 5])\n",
    "\n",
    "print(arr)"
   ]
  },
  {
   "cell_type": "code",
   "execution_count": 3,
   "metadata": {},
   "outputs": [
    {
     "name": "stdout",
     "output_type": "stream",
     "text": [
      "<class 'list'>\n",
      "<class 'numpy.ndarray'>\n"
     ]
    }
   ],
   "source": [
    "# l'array si crea a partire da una lista\n",
    "list_for_array = [1, 2, 3, 4, 5]\n",
    "print(type(list_for_array))\n",
    "arr = np.array(list_for_array)\n",
    "print(type(arr))\n"
   ]
  },
  {
   "cell_type": "code",
   "execution_count": 4,
   "metadata": {},
   "outputs": [
    {
     "name": "stdout",
     "output_type": "stream",
     "text": [
      "[1 2 3 4 5 6]\n",
      "[[1 2 3]\n",
      " [4 5 6]]\n",
      "42\n"
     ]
    }
   ],
   "source": [
    "# a cosa serve ndmin: dimensione dell'array\n",
    "arr = np.array([1, 2, 3, 4, 5, 6], ndmin=1)\n",
    "print(arr)\n",
    "\n",
    "lista1 = [1, 2, 3]\n",
    "lista2 = [4, 5, 6]\n",
    "lista3 = [lista1, lista2]\n",
    "\n",
    "arr = np.array(lista3, ndmin=2)\n",
    "print(arr)\n",
    "\n",
    "arr = np.array(42, ndmin=0)\n",
    "print(arr)\n"
   ]
  },
  {
   "cell_type": "code",
   "execution_count": 5,
   "metadata": {},
   "outputs": [
    {
     "name": "stdout",
     "output_type": "stream",
     "text": [
      "1\n",
      "4\n",
      "4\n"
     ]
    }
   ],
   "source": [
    "arr = np.array([1, 2, 3, 4])\n",
    "# primo elemento\n",
    "print(arr[0])\n",
    "\n",
    "# ultimo elemento\n",
    "print(arr[3])\n",
    "print(arr[-1])\n"
   ]
  },
  {
   "cell_type": "code",
   "execution_count": 6,
   "metadata": {},
   "outputs": [
    {
     "name": "stdout",
     "output_type": "stream",
     "text": [
      "[0. 0. 0. 0. 0.]\n",
      "0.0\n",
      "<class 'numpy.float64'>\n",
      "<class 'float'>\n",
      "<class 'numpy.int64'>\n"
     ]
    }
   ],
   "source": [
    "# creare un array vuoto\n",
    "# (non normale in Python)\n",
    "# e in un secondo momento inserire i valori\n",
    "\n",
    "# array di numpy.float64\n",
    "array_vuoto = np.zeros(5)\n",
    "print(array_vuoto)\n",
    "\n",
    "print(array_vuoto[0])\n",
    "print(type(array_vuoto[0]))\n",
    "\n",
    "float_number = 0.0\n",
    "print(type(float_number))\n",
    "\n",
    "# array di numpy.int64\n",
    "array_vuoto = np.zeros(5, dtype=int)\n",
    "print(type(array_vuoto[0]))"
   ]
  },
  {
   "cell_type": "code",
   "execution_count": 7,
   "metadata": {},
   "outputs": [
    {
     "name": "stdout",
     "output_type": "stream",
     "text": [
      "[0 0 0 0 0]\n",
      "[19 21 23 24 25]\n"
     ]
    }
   ],
   "source": [
    "dim = 5\n",
    "array_vuoto = np.zeros(dim, dtype=int)\n",
    "print(array_vuoto)\n",
    "\n",
    "# inserire la temperatura degli ultimi 5 giorni\n",
    "# indice 0 e la temperatura meno recente\n",
    "# indice 4 e la temperatura piu recente\n",
    "array_vuoto[0] = 19\n",
    "array_vuoto[1] = 21\n",
    "array_vuoto[2] = 23\n",
    "array_vuoto[3] = 24\n",
    "array_vuoto[4] = 25\n",
    "\n",
    "print(array_vuoto)"
   ]
  },
  {
   "cell_type": "code",
   "execution_count": 8,
   "metadata": {},
   "outputs": [
    {
     "name": "stdout",
     "output_type": "stream",
     "text": [
      "[0 0 0 0 0]\n",
      "[2 3 4 5 6]\n"
     ]
    }
   ],
   "source": [
    "dim = 5\n",
    "array_vuoto = np.zeros(dim, dtype=int)\n",
    "print(array_vuoto)\n",
    "\n",
    "# inserire la temperatura degli ultimi 5 giorni\n",
    "# indice 0 e la temperatura meno recente\n",
    "# indice 4 e la temperatura piu recente\n",
    "for i in range(5): # [0, 1, 2, 3, 4]\n",
    "    value = int(input(\"inserisci la temperatura\"))\n",
    "    array_vuoto[i] = value\n",
    "\n",
    "print(array_vuoto)"
   ]
  },
  {
   "cell_type": "code",
   "execution_count": 9,
   "metadata": {},
   "outputs": [
    {
     "name": "stdout",
     "output_type": "stream",
     "text": [
      "[7 8 9 5 6]\n"
     ]
    }
   ],
   "source": [
    "lista = []\n",
    "\n",
    "# inserire la temperatura degli ultimi 5 giorni\n",
    "# indice 0 e la temperatura meno recente\n",
    "# indice 4 e la temperatura piu recente\n",
    "for i in range(5): # [0, 1, 2, 3, 4]\n",
    "    value = int(input(\"inserisci la temperatura\"))\n",
    "    lista.append(value)\n",
    "\n",
    "dim = len(lista)\n",
    "array_vuoto = np.array(lista)\n",
    "\n",
    "print(array_vuoto)"
   ]
  },
  {
   "cell_type": "code",
   "execution_count": 11,
   "metadata": {},
   "outputs": [
    {
     "name": "stdout",
     "output_type": "stream",
     "text": [
      "[1 2 3 4 5]\n",
      "[  1   2 100   4   5]\n"
     ]
    }
   ],
   "source": [
    "# aggionare/modificare un array\n",
    "arr = np.array([1, 2, 3, 4, 5])\n",
    "print(arr)\n",
    "\n",
    "# al posto 3 voglio 100\n",
    "arr[2] = 100\n",
    "print(arr)\n"
   ]
  },
  {
   "cell_type": "code",
   "execution_count": 12,
   "metadata": {},
   "outputs": [
    {
     "ename": "NameError",
     "evalue": "name 'numpy' is not defined",
     "output_type": "error",
     "traceback": [
      "\u001b[0;31m---------------------------------------------------------------------------\u001b[0m",
      "\u001b[0;31mNameError\u001b[0m                                 Traceback (most recent call last)",
      "Cell \u001b[0;32mIn[12], line 2\u001b[0m\n\u001b[1;32m      1\u001b[0m \u001b[39m# aggiungere un nuovo elemento all'array\u001b[39;00m\n\u001b[0;32m----> 2\u001b[0m arr \u001b[39m=\u001b[39m numpy\u001b[39m.\u001b[39marray([\u001b[39m1\u001b[39m, \u001b[39m2\u001b[39m, \u001b[39m3\u001b[39m, \u001b[39m4\u001b[39m, \u001b[39m5\u001b[39m])\n\u001b[1;32m      3\u001b[0m \u001b[39mprint\u001b[39m(arr)\n\u001b[1;32m      5\u001b[0m \u001b[39m# voglio farlo diventare [1, 2, 3, 4, 5, 6]\u001b[39;00m\n\u001b[1;32m      6\u001b[0m \u001b[39m# non si puo fare\u001b[39;00m\n\u001b[1;32m      7\u001b[0m \n\u001b[1;32m      8\u001b[0m \u001b[39m# devo creare un nuovo array con 6 elementi\u001b[39;00m\n",
      "\u001b[0;31mNameError\u001b[0m: name 'numpy' is not defined"
     ]
    }
   ],
   "source": [
    "# aggiungere un nuovo elemento all'array\n",
    "arr = np.array([1, 2, 3, 4, 5])\n",
    "print(arr)\n",
    "\n",
    "# voglio farlo diventare [1, 2, 3, 4, 5, 6]\n",
    "# non si puo fare\n",
    "\n",
    "# devo creare un nuovo array con 6 elementi\n"
   ]
  },
  {
   "cell_type": "code",
   "execution_count": null,
   "metadata": {},
   "outputs": [
    {
     "name": "stdout",
     "output_type": "stream",
     "text": [
      "[2 3 4 5]\n",
      "[5 6 7]\n",
      "[1 2 3 4]\n",
      "[2 4]\n"
     ]
    }
   ],
   "source": [
    "arr = np.array([1, 2, 3, 4, 5, 6, 7])\n",
    "print(arr[1:5])\n",
    "print(arr[4:])\n",
    "print(arr[:4])\n",
    "print(arr[1:5:2])\n"
   ]
  },
  {
   "cell_type": "code",
   "execution_count": null,
   "metadata": {},
   "outputs": [],
   "source": [
    "import numpy as np\n",
    "\n",
    "# creare un vettore vuoto (tutti 0)\n",
    "def crea_vettore(dimensione) -> np.ndarray:\n",
    "    vettore = np.zeros(dimensione, dtype=np.int8)\n",
    "    return vettore\n",
    "\n",
    "dimensione_del_vettore = 4\n",
    "vettore = crea_vettore(dimensione_del_vettore)\n",
    "print(vettore)\n",
    "print(type(vettore[0]))\n",
    "\n",
    "# inserimento di elemento\n",
    "def inserisci_elemento(\n",
    "        vettore: np.ndarray, \n",
    "        elemento: int,\n",
    "        posizione: int\n",
    "        ) -> np.ndarray:\n",
    "    vettore[posizione] = elemento\n",
    "    return vettore\n",
    "\n",
    "elemento = 3\n",
    "posizione = 1\n",
    "vettore_aggiornato = inserisci_elemento(vettore, elemento, posizione)\n",
    "print(vettore)\n",
    "\n",
    "\n",
    "# inserimento tutti gli elementi\n",
    "import random\n",
    "for i in range(dimensione_del_vettore):\n",
    "    elemento = random.randint(1,10)\n",
    "    vettore_aggiornato = inserisci_elemento(vettore, elemento, i)\n",
    "print(vettore)\n",
    "\n",
    "\n",
    "# elimina un elemento\n",
    "def elimina_elemento(\n",
    "        vettore: np.ndarray, \n",
    "        posizione: int\n",
    "        ) -> np.ndarray:\n",
    "    vettore[posizione] = 0\n",
    "    return vettore\n",
    "\n",
    "posizione = 1\n",
    "vettore_aggiornato = elimina_elemento(vettore, posizione)\n",
    "print(vettore)\n",
    "\n",
    "# ordinare il vettore \n",
    "# semplifico: trova il minimo del vettore\n",
    "def trova_minimo(vettore: np.ndarray) -> int:\n",
    "    minimo = vettore[0]\n",
    "    for i in range(len(vettore)):\n",
    "        if vettore[i] < minimo:\n",
    "            minimo = vettore[i]\n",
    "    return minimo\n",
    "\n",
    "# no: trova la posizione del minimo del vettore\n",
    "def trova_posizione_minimo(vettore: np.ndarray) -> int:\n",
    "    minimo = vettore[0]\n",
    "    posizione_minimo = 0\n",
    "    for i in range(len(vettore)):\n",
    "        if vettore[i] < minimo:\n",
    "            minimo = vettore[i]\n",
    "            posizione_minimo = i\n",
    "    return posizione_minimo\n",
    "\n",
    "# semplifico: scambia posizione recente con la posizione del minimo\n",
    "def scambia_posizioni(\n",
    "        vettore: np.ndarray, \n",
    "        posizione_minimo: int,\n",
    "        posizione_recente: int) -> int:\n",
    "    temp = vettore[posizione_recente]\n",
    "    vettore[posizione_recente] = vettore[posizione_minimo]\n",
    "    vettore[posizione_minimo] = temp\n",
    "    return vettore\n",
    "    \n",
    "print(vettore)\n",
    "posizione_minimo = trova_posizione_minimo(vettore)\n",
    "vettore = scambia_posizioni(vettore,posizione_minimo,0)\n",
    "print(vettore)\n"
   ]
  }
 ],
 "metadata": {
  "kernelspec": {
   "display_name": "Python 3",
   "language": "python",
   "name": "python3"
  },
  "language_info": {
   "codemirror_mode": {
    "name": "ipython",
    "version": 3
   },
   "file_extension": ".py",
   "mimetype": "text/x-python",
   "name": "python",
   "nbconvert_exporter": "python",
   "pygments_lexer": "ipython3",
   "version": "3.9.16"
  },
  "orig_nbformat": 4
 },
 "nbformat": 4,
 "nbformat_minor": 2
}
