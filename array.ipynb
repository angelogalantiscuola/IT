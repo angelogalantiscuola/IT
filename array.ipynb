{
 "cells": [
  {
   "cell_type": "code",
   "execution_count": 23,
   "metadata": {},
   "outputs": [
    {
     "name": "stdout",
     "output_type": "stream",
     "text": [
      "[1 2 3 4 5]\n"
     ]
    }
   ],
   "source": [
    "import numpy as np\n",
    "\n",
    "arr = numpy.array([1, 2, 3, 4, 5])\n",
    "\n",
    "print(arr)"
   ]
  },
  {
   "cell_type": "code",
   "execution_count": 24,
   "metadata": {},
   "outputs": [
    {
     "name": "stdout",
     "output_type": "stream",
     "text": [
      "<class 'list'>\n",
      "<class 'numpy.ndarray'>\n"
     ]
    }
   ],
   "source": [
    "# l'array si crea a partire da una lista\n",
    "list_for_array = [1, 2, 3, 4, 5]\n",
    "print(type(list_for_array))\n",
    "arr = np.array(list_for_array)\n",
    "print(type(arr))\n"
   ]
  },
  {
   "cell_type": "code",
   "execution_count": 17,
   "metadata": {},
   "outputs": [
    {
     "name": "stdout",
     "output_type": "stream",
     "text": [
      "[1 2 3 4 5 6]\n",
      "[[1 2 3]\n",
      " [4 5 6]]\n",
      "42\n"
     ]
    }
   ],
   "source": [
    "# a cosa serve ndmin: dimensione dell'array\n",
    "arr = np.array([1, 2, 3, 4, 5, 6], ndmin=1)\n",
    "print(arr)\n",
    "\n",
    "lista1 = [1, 2, 3]\n",
    "lista2 = [4, 5, 6]\n",
    "lista3 = [lista1, lista2]\n",
    "\n",
    "arr = np.array(lista3, ndmin=2)\n",
    "print(arr)\n",
    "\n",
    "arr = np.array(42, ndmin=0)\n",
    "print(arr)\n"
   ]
  },
  {
   "cell_type": "code",
   "execution_count": 22,
   "metadata": {},
   "outputs": [
    {
     "name": "stdout",
     "output_type": "stream",
     "text": [
      "1\n",
      "4\n",
      "4\n"
     ]
    }
   ],
   "source": [
    "arr = np.array([1, 2, 3, 4])\n",
    "# primo elemento\n",
    "print(arr[0])\n",
    "\n",
    "# ultimo elemento\n",
    "print(arr[3])\n",
    "print(arr[-1])\n"
   ]
  },
  {
   "cell_type": "code",
   "execution_count": 32,
   "metadata": {},
   "outputs": [
    {
     "name": "stdout",
     "output_type": "stream",
     "text": [
      "[0. 0. 0. 0. 0.]\n",
      "0.0\n",
      "<class 'numpy.float64'>\n",
      "<class 'float'>\n",
      "<class 'numpy.int64'>\n"
     ]
    }
   ],
   "source": [
    "# creare un array vuoto\n",
    "# (non normale in Python)\n",
    "# e in un secondo momento inserire i valori\n",
    "\n",
    "# array di numpy.float64\n",
    "array_vuoto = np.zeros(5)\n",
    "print(array_vuoto)\n",
    "\n",
    "print(array_vuoto[0])\n",
    "print(type(array_vuoto[0]))\n",
    "\n",
    "float_number = 0.0\n",
    "print(type(float_number))\n",
    "\n",
    "# array di numpy.int64\n",
    "array_vuoto = np.zeros(5, dtype=int)\n",
    "print(type(array_vuoto[0]))"
   ]
  },
  {
   "cell_type": "code",
   "execution_count": 34,
   "metadata": {},
   "outputs": [
    {
     "name": "stdout",
     "output_type": "stream",
     "text": [
      "[0 0 0 0 0]\n",
      "[19 21 23 24 25]\n"
     ]
    }
   ],
   "source": [
    "dim = 5\n",
    "array_vuoto = np.zeros(dim, dtype=int)\n",
    "print(array_vuoto)\n",
    "\n",
    "# inserire la temperatura degli ultimi 5 giorni\n",
    "# indice 0 e la temperatura meno recente\n",
    "# indice 4 e la temperatura piu recente\n",
    "array_vuoto[0] = 19\n",
    "array_vuoto[1] = 21\n",
    "array_vuoto[2] = 23\n",
    "array_vuoto[3] = 24\n",
    "array_vuoto[4] = 25\n",
    "\n",
    "print(array_vuoto)"
   ]
  },
  {
   "cell_type": "code",
   "execution_count": 43,
   "metadata": {},
   "outputs": [
    {
     "name": "stdout",
     "output_type": "stream",
     "text": [
      "[0 0 0 0 0]\n",
      "[1 2 3 4 5]\n"
     ]
    }
   ],
   "source": [
    "dim = 5\n",
    "array_vuoto = np.zeros(dim, dtype=int)\n",
    "print(array_vuoto)\n",
    "\n",
    "# inserire la temperatura degli ultimi 5 giorni\n",
    "# indice 0 e la temperatura meno recente\n",
    "# indice 4 e la temperatura piu recente\n",
    "for i in range(5): # [0, 1, 2, 3, 4]\n",
    "    value = int(input(\"inserisci la temperatura\"))\n",
    "    array_vuoto[i] = value\n",
    "\n",
    "print(array_vuoto)"
   ]
  },
  {
   "cell_type": "code",
   "execution_count": 45,
   "metadata": {},
   "outputs": [
    {
     "name": "stdout",
     "output_type": "stream",
     "text": [
      "[1 2 3 4 5]\n"
     ]
    }
   ],
   "source": [
    "lista = []\n",
    "\n",
    "# inserire la temperatura degli ultimi 5 giorni\n",
    "# indice 0 e la temperatura meno recente\n",
    "# indice 4 e la temperatura piu recente\n",
    "for i in range(5): # [0, 1, 2, 3, 4]\n",
    "    value = int(input(\"inserisci la temperatura\"))\n",
    "    lista.append(value)\n",
    "\n",
    "dim = len(lista)\n",
    "array_vuoto = np.array(lista)\n",
    "\n",
    "print(array_vuoto)"
   ]
  },
  {
   "cell_type": "code",
   "execution_count": 47,
   "metadata": {},
   "outputs": [
    {
     "name": "stdout",
     "output_type": "stream",
     "text": [
      "[1 2 3 4 5]\n",
      "[  1   2 100   4   5]\n"
     ]
    }
   ],
   "source": [
    "# aggionare/modificare un array\n",
    "arr = numpy.array([1, 2, 3, 4, 5])\n",
    "print(arr)\n",
    "\n",
    "# al posto 3 voglio 100\n",
    "arr[2] = 100\n",
    "print(arr)\n"
   ]
  },
  {
   "cell_type": "code",
   "execution_count": 48,
   "metadata": {},
   "outputs": [
    {
     "name": "stdout",
     "output_type": "stream",
     "text": [
      "[1 2 3 4 5]\n"
     ]
    }
   ],
   "source": [
    "# aggiungere un nuovo elemento all'array\n",
    "arr = numpy.array([1, 2, 3, 4, 5])\n",
    "print(arr)\n",
    "\n",
    "# voglio farlo diventare [1, 2, 3, 4, 5, 6]\n",
    "# non si puo fare\n",
    "\n",
    "# devo creare un nuovo array con 6 elementi\n"
   ]
  },
  {
   "cell_type": "code",
   "execution_count": 53,
   "metadata": {},
   "outputs": [
    {
     "name": "stdout",
     "output_type": "stream",
     "text": [
      "[2 3 4 5]\n",
      "[5 6 7]\n",
      "[1 2 3 4]\n",
      "[2 4]\n"
     ]
    }
   ],
   "source": [
    "arr = np.array([1, 2, 3, 4, 5, 6, 7])\n",
    "print(arr[1:5])\n",
    "print(arr[4:])\n",
    "print(arr[:4])\n",
    "print(arr[1:5:2])\n"
   ]
  }
 ],
 "metadata": {
  "kernelspec": {
   "display_name": "Python 3",
   "language": "python",
   "name": "python3"
  },
  "language_info": {
   "codemirror_mode": {
    "name": "ipython",
    "version": 3
   },
   "file_extension": ".py",
   "mimetype": "text/x-python",
   "name": "python",
   "nbconvert_exporter": "python",
   "pygments_lexer": "ipython3",
   "version": "3.9.16"
  },
  "orig_nbformat": 4
 },
 "nbformat": 4,
 "nbformat_minor": 2
}
