{
 "cells": [
  {
   "attachments": {},
   "cell_type": "markdown",
   "metadata": {},
   "source": [
    "# functions\n",
    "\n",
    "[funzioni in Python su w3school](https://www.w3schools.com/python/python_functions.asp)\n",
    "\n",
    "## definizione di funzione\n",
    "\n",
    "Una funzione è un **blocco di codice che viene eseguito solo quando viene chiamato**.\n",
    "\n",
    "## differenza tra funzione e procedura\n",
    "\n",
    "La differenza fondamentale tra procedure e funzioni è che le seconde possono **restituire dei valori**, ad esempio il risultato di un'elaborazione oppure un valore di ritorno che determina il blocco di codice ha avuto successo, mentre le procedure no.\n",
    "\n",
    "## argomenti di una funzione\n",
    "\n",
    "- I termini parametro e argomento possono essere usati per la stessa cosa: informazioni che vengono passate a una funzione.\n",
    "- Dal punto di vista di una funzione:\n",
    "  - Un **parametro** è la variabile elencata tra parentesi nella definizione della funzione.\n",
    "  - Un **argomento** è il valore che viene inviato alla funzione quando viene chiamata.\n",
    "- keyword arguments\n",
    "- default parameter value\n",
    "- [passare una lista come argomento](https://www.w3schools.com/python/gloss_python_function_passing_list.asp)\n",
    "\n",
    "## valore di ritorno di una funzione\n",
    "\n",
    "[return](https://www.w3schools.com/python/gloss_python_function_return_value.asp)\n",
    "\n",
    "## funzione vuota\n",
    "\n",
    "[pass](https://www.w3schools.com/python/gloss_python_function_pass.asp)"
   ]
  },
  {
   "cell_type": "code",
   "execution_count": 33,
   "metadata": {},
   "outputs": [
    {
     "name": "stdout",
     "output_type": "stream",
     "text": [
      "Hello from a function\n",
      "Hello from a function\n"
     ]
    }
   ],
   "source": [
    "b = 1 # dichiarazione e assegnazione\n",
    "\n",
    "def my_function(): # dichiarazione definizione\n",
    "    print(\"Hello from a function\")\n",
    "    print(\"Hello from a function\")\n",
    "\n",
    "my_function() # chiamata di funzione"
   ]
  },
  {
   "cell_type": "code",
   "execution_count": 34,
   "metadata": {},
   "outputs": [
    {
     "name": "stdout",
     "output_type": "stream",
     "text": [
      "Emil Refsnes\n",
      "Tobias Refsnes\n",
      "Linus Refsnes\n"
     ]
    }
   ],
   "source": [
    "def my_function(first_name):\n",
    "  print(first_name + \" Refsnes\")\n",
    "\n",
    "my_function(\"Emil\")\n",
    "my_function(\"Tobias\")\n",
    "my_function(\"Linus\")"
   ]
  },
  {
   "cell_type": "code",
   "execution_count": 35,
   "metadata": {},
   "outputs": [
    {
     "name": "stdout",
     "output_type": "stream",
     "text": [
      "Emil Refsnes\n"
     ]
    }
   ],
   "source": [
    "def my_function(fname, lname):\n",
    "  print(fname + \" \" + lname)\n",
    "\n",
    "my_function(\"Emil\", \"Refsnes\")"
   ]
  },
  {
   "cell_type": "code",
   "execution_count": 36,
   "metadata": {},
   "outputs": [
    {
     "name": "stdout",
     "output_type": "stream",
     "text": [
      "The youngest child is Linus\n"
     ]
    }
   ],
   "source": [
    "def my_function(child3, child2, child1):\n",
    "  print(\"The youngest child is \" + child3)\n",
    "\n",
    "my_function(child1 = \"Emil\", child2 = \"Tobias\", child3 = \"Linus\")"
   ]
  },
  {
   "cell_type": "code",
   "execution_count": 37,
   "metadata": {},
   "outputs": [
    {
     "name": "stdout",
     "output_type": "stream",
     "text": [
      "I am from Sweden\n",
      "I am from India\n",
      "I am from Norway\n",
      "I am from Brazil\n"
     ]
    }
   ],
   "source": [
    "def my_function(country = \"Norway\"):\n",
    "  print(\"I am from \" + country)\n",
    "\n",
    "my_function(\"Sweden\")\n",
    "my_function(\"India\")\n",
    "my_function()\n",
    "my_function(\"Brazil\")"
   ]
  },
  {
   "cell_type": "code",
   "execution_count": 38,
   "metadata": {},
   "outputs": [
    {
     "name": "stdout",
     "output_type": "stream",
     "text": [
      "apple\n",
      "banana\n",
      "cherry\n"
     ]
    }
   ],
   "source": [
    "def my_function(food):\n",
    "  for x in food:\n",
    "    print(x)\n",
    "\n",
    "fruits = [\"apple\", \"banana\", \"cherry\"]\n",
    "\n",
    "my_function(fruits)"
   ]
  },
  {
   "cell_type": "code",
   "execution_count": 39,
   "metadata": {},
   "outputs": [
    {
     "name": "stdout",
     "output_type": "stream",
     "text": [
      "15\n",
      "25\n",
      "45\n"
     ]
    }
   ],
   "source": [
    "def my_function(x):\n",
    "  return 5 * x\n",
    "\n",
    "print(my_function(3))\n",
    "print(my_function(5))\n",
    "print(my_function(9))"
   ]
  },
  {
   "cell_type": "code",
   "execution_count": 40,
   "metadata": {},
   "outputs": [],
   "source": [
    "def myfunction():\n",
    "  pass\n",
    "\n",
    "myfunction()"
   ]
  },
  {
   "attachments": {},
   "cell_type": "markdown",
   "metadata": {},
   "source": [
    "# a cosa servono?\n",
    "\n",
    "- approccio Top-Down e Bottom-Up\n",
    "- codice più:\n",
    "    - modulare\n",
    "    - riutilizzabile\n",
    "    - leggibe\n",
    "    - sintetico"
   ]
  },
  {
   "cell_type": "code",
   "execution_count": 41,
   "metadata": {},
   "outputs": [
    {
     "name": "stdout",
     "output_type": "stream",
     "text": [
      "Risultato: 4\n",
      "Risultato: 9\n",
      "Risultato: 16\n"
     ]
    }
   ],
   "source": [
    "# 1. chiedi 3 numeri\n",
    "# 2. fai il quadrato\n",
    "# 3. stampa il quadrato dei 3 numeri\n",
    "\n",
    "# input print * =\n",
    "# INPUT\n",
    "n1 = int(input(\"Inserisci numero:\"))\n",
    "n2 = int(input(\"Inserisci numero:\"))\n",
    "n3 = int(input(\"Inserisci numero:\"))\n",
    "\n",
    "# ELABORAZIONE\n",
    "r1 = n1*n1\n",
    "r2 = n2*n2\n",
    "r3 = n3*n3\n",
    "\n",
    "# OUTPUT\n",
    "print(f\"Risultato: {r1}\")\n",
    "print(f\"Risultato: {r2}\")\n",
    "print(f\"Risultato: {r3}\")\n"
   ]
  },
  {
   "cell_type": "code",
   "execution_count": 42,
   "metadata": {},
   "outputs": [
    {
     "name": "stdout",
     "output_type": "stream",
     "text": [
      "4\n",
      "9\n",
      "16\n"
     ]
    }
   ],
   "source": [
    "# input print * = liste for\n",
    "lista_num = []\n",
    "lista_ris = []\n",
    "for i in range(3):\n",
    "    lista_num.append(int(input(\"Inserisci numero:\")))\n",
    "    lista_ris.append(lista_num[i]**2)\n",
    "    print(lista_ris[i])"
   ]
  },
  {
   "cell_type": "code",
   "execution_count": 43,
   "metadata": {},
   "outputs": [
    {
     "name": "stdout",
     "output_type": "stream",
     "text": [
      "Risultato: 4\n",
      "Risultato: 9\n",
      "Risultato: 16\n"
     ]
    }
   ],
   "source": [
    "# input print * = liste for function\n",
    "def quadrato_di_un_numero():\n",
    "    n1 = int(input(\"Inserisci numero:\"))\n",
    "    r1 = n1*n1\n",
    "    print(f\"Risultato: {r1}\")\n",
    "    \n",
    "for i in range(3):\n",
    "    quadrato_di_un_numero()"
   ]
  },
  {
   "cell_type": "code",
   "execution_count": 44,
   "metadata": {},
   "outputs": [
    {
     "name": "stdout",
     "output_type": "stream",
     "text": [
      "Risultato: 4\n",
      "Risultato: 9\n",
      "Risultato: 16\n"
     ]
    }
   ],
   "source": [
    "# input print * = liste for function\n",
    "def chiedi_valore():\n",
    "    numero = int(input(\"Inserisci numero:\"))\n",
    "    return numero\n",
    "\n",
    "def quadrato_di_un_numero(numero):\n",
    "    return numero*numero\n",
    "\n",
    "def stampa_risultato(numero):\n",
    "    print(f\"Risultato: {numero}\")\n",
    "\n",
    "for i in range(3):\n",
    "    numero = chiedi_valore()\n",
    "    numero_al_quadrato = quadrato_di_un_numero(numero)\n",
    "    stampa_risultato(numero_al_quadrato)"
   ]
  }
 ],
 "metadata": {
  "kernelspec": {
   "display_name": "Python 3",
   "language": "python",
   "name": "python3"
  },
  "language_info": {
   "codemirror_mode": {
    "name": "ipython",
    "version": 3
   },
   "file_extension": ".py",
   "mimetype": "text/x-python",
   "name": "python",
   "nbconvert_exporter": "python",
   "pygments_lexer": "ipython3",
   "version": "3.11.0 (main, Oct 24 2022, 18:26:48) [MSC v.1933 64 bit (AMD64)]"
  },
  "orig_nbformat": 4,
  "vscode": {
   "interpreter": {
    "hash": "c261aea317cc0286b3b3261fbba9abdec21eaa57589985bb7a274bf54d6cc0a7"
   }
  }
 },
 "nbformat": 4,
 "nbformat_minor": 2
}
