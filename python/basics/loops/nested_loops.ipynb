{
 "cells": [
  {
   "cell_type": "markdown",
   "metadata": {},
   "source": [
    "# cicli nidificati"
   ]
  },
  {
   "cell_type": "code",
   "execution_count": 4,
   "metadata": {},
   "outputs": [
    {
     "name": "stdout",
     "output_type": "stream",
     "text": [
      "* * * * \n",
      "* * * * \n",
      "* * * * \n"
     ]
    }
   ],
   "source": [
    "for i in range(3):\n",
    "    for j in range(4):\n",
    "        print('*', end=' ')\n",
    "    print()\n"
   ]
  },
  {
   "cell_type": "code",
   "execution_count": 7,
   "metadata": {},
   "outputs": [
    {
     "name": "stdout",
     "output_type": "stream",
     "text": [
      "1 2 3 4 \n",
      "1 2 3 4 \n",
      "1 2 3 4 \n"
     ]
    }
   ],
   "source": [
    "for i in range(3):\n",
    "    for j in range(1,5):\n",
    "        print(j, end=' ')\n",
    "    print()\n"
   ]
  },
  {
   "cell_type": "code",
   "execution_count": 9,
   "metadata": {},
   "outputs": [
    {
     "name": "stdout",
     "output_type": "stream",
     "text": [
      "4 3 2 1 \n",
      "4 3 2 1 \n",
      "4 3 2 1 \n"
     ]
    }
   ],
   "source": [
    "for i in range(3):\n",
    "    for j in range(4,0,-1):\n",
    "        print(j, end=' ')\n",
    "    print()"
   ]
  },
  {
   "cell_type": "code",
   "execution_count": 10,
   "metadata": {},
   "outputs": [
    {
     "name": "stdout",
     "output_type": "stream",
     "text": [
      "1234567\n",
      "123456\n",
      "12345\n",
      "1234\n",
      "123\n",
      "12\n",
      "1\n"
     ]
    }
   ],
   "source": [
    "n = 7\n",
    "# for i in range(n): # [0 1 2 ... 6]\n",
    "# for i in range(7): # [0 1 2 ... 6]\n",
    "for i in [0,1,2,3,4,5,6]: # [0 1 2 ... 6]\n",
    "    for j in range(1,n+1-i): # <----------------------------------------\n",
    "\n",
    "    # for j in range(1,8): # i=0\n",
    "    # for j in [1,2,3,4,5,6,7]: # i=0\n",
    "\n",
    "    # for j in range(1,7): # i=1\n",
    "    # for j in [1,2,3,4,5,6]: # i=1\n",
    "\n",
    "    # for j in range(1,6): # i=2\n",
    "    # for j in [1,2,3,4,5]: # i=2\n",
    "\n",
    "    # ...\n",
    "\n",
    "    # for j in range(1,2): # i=6\n",
    "    # for j in [1]: # i=6\n",
    "\n",
    "        # i=0 --> n+1-i = 7+1-0 = 8 --> [1 2 ... 7]\n",
    "        # i=1 --> n+1-i = 7+1-1 = 7 --> [1 2 ... 6]\n",
    "        # i=2 --> n+1-i = 7+1-2 = 6 --> [1 2 ... 5]\n",
    "        # i=3 --> n+1-i = 7+1-3 = 5 --> [1 2 ... 4]\n",
    "        # ...\n",
    "        # i=6 --> n+1-i = 7+1-6 = 2 --> [1]\n",
    "        print(j, end='')\n",
    "    print()"
   ]
  },
  {
   "cell_type": "code",
   "execution_count": 13,
   "metadata": {},
   "outputs": [
    {
     "name": "stdout",
     "output_type": "stream",
     "text": [
      "1\n",
      "21\n",
      "321\n",
      "4321\n",
      "54321\n",
      "654321\n",
      "7654321\n"
     ]
    }
   ],
   "source": [
    "n=7\n",
    "for i in range(1,n+1): # [1,2,3,4,5,6,7]\n",
    "    for j in range(i,0, -1): \n",
    "        # i=1 --> range(i,0, -1) --> range(1,0,-1) --> [1]\n",
    "        # i=2 --> range(i,0, -1) --> range(2,0,-1) --> [2,1]\n",
    "        # i=3 --> range(i,0, -1) --> range(2,0,-1) --> [3,2,1]\n",
    "        # ...\n",
    "        # i=7 --> range(i,0, -1) --> range(7,0,-1) --> [7,6,...,3,2,1]\n",
    "        print(j, end='')\n",
    "    print()"
   ]
  },
  {
   "cell_type": "code",
   "execution_count": 15,
   "metadata": {},
   "outputs": [
    {
     "name": "stdout",
     "output_type": "stream",
     "text": [
      "*\n",
      "**\n",
      "***\n",
      "****\n",
      "*****\n",
      "****\n",
      "***\n",
      "**\n",
      "*\n"
     ]
    }
   ],
   "source": [
    "n = 5\n",
    "for i in range(1,n*2): # STAMPO 9 RIGHE\n",
    "    if i<=n: # LE PRIME 5\n",
    "        for j in range(i,0, -1):\n",
    "            print('*', end='')\n",
    "    else: # DALLA 6 IN POI\n",
    "         for j in range(1,n*2+1-i): \n",
    "            # 11-i\n",
    "            # i=6 --> 11-6 = 5 --> range(1,5) --> [1,2,3,4]\n",
    "            # i=7 --> 11-7 = 4 --> range(1,4) --> [1,2,3]\n",
    "            print('*', end='')\n",
    "    print()"
   ]
  },
  {
   "cell_type": "code",
   "execution_count": 16,
   "metadata": {},
   "outputs": [
    {
     "name": "stdout",
     "output_type": "stream",
     "text": [
      "*\n",
      "**\n",
      "***\n",
      "****\n",
      "*****\n",
      "****\n",
      "***\n",
      "**\n",
      "*\n"
     ]
    }
   ],
   "source": [
    "n = 5\n",
    "for i in range(1,n*2): # [1...9]\n",
    "    for j in range(1,n+1): # [1..5]\n",
    "        if i<=n and j<=i:\n",
    "            print('*', end='')\n",
    "        elif i>n and j<n*2+1-i:\n",
    "            print('*', end='')\n",
    "    print()"
   ]
  },
  {
   "cell_type": "code",
   "execution_count": 18,
   "metadata": {},
   "outputs": [
    {
     "name": "stdout",
     "output_type": "stream",
     "text": [
      "*\n",
      "**\n",
      "***\n",
      "****\n",
      "*****\n",
      "****\n",
      "***\n",
      "**\n",
      "*\n"
     ]
    }
   ],
   "source": [
    "n=5\n",
    "for i in range(1,n*2): # [1...9]\n",
    "    for j in range(1,n+1): # [1...5]\n",
    "        if i<=n and j<=i or i>n and j<n*2+1-i:\n",
    "            print('*', end='')\n",
    "    print()"
   ]
  }
 ],
 "metadata": {
  "kernelspec": {
   "display_name": "Python 3.11.0 64-bit",
   "language": "python",
   "name": "python3"
  },
  "language_info": {
   "codemirror_mode": {
    "name": "ipython",
    "version": 3
   },
   "file_extension": ".py",
   "mimetype": "text/x-python",
   "name": "python",
   "nbconvert_exporter": "python",
   "pygments_lexer": "ipython3",
   "version": "3.11.0"
  },
  "orig_nbformat": 4,
  "vscode": {
   "interpreter": {
    "hash": "c261aea317cc0286b3b3261fbba9abdec21eaa57589985bb7a274bf54d6cc0a7"
   }
  }
 },
 "nbformat": 4,
 "nbformat_minor": 2
}
