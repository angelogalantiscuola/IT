{
 "cells": [
  {
   "cell_type": "markdown",
   "metadata": {},
   "source": [
    "# Esercizio sulle liste 2\n",
    "1. modificare l'esercizio cognomi degli alunni stampando per ogni alunno anche il relativo numero di registro\n",
    "2. creare una nuova lista che contiene solo i cognomi piu lunghi di 8 caratteri che contengono la lettera E\n",
    "3. stampare i cognomi ordinati dalla Z alla A\n",
    "4. creare una copia della lista cognomi lunghi con la E\n",
    "5. creare una nuova lista che contiene solo i cognomi che contengono la lettera C\n",
    "6. unire le due liste 'cognomi lunghi con la E' e 'cognomi che contengono la lettera C'"
   ]
  },
  {
   "cell_type": "code",
   "execution_count": 24,
   "metadata": {},
   "outputs": [
    {
     "name": "stdout",
     "output_type": "stream",
     "text": [
      "1 amati\n",
      "2 baffert\n",
      "3 chiarabine\n",
      "4 chiarabino\n",
      "5 ErmANagIldo\n",
      "6 uva\n",
      "\n",
      "['chiarabine', 'ErmANagIldo']\n",
      "['uva', 'chiarabino', 'chiarabine', 'baffert', 'amati', 'ErmANagIldo']\n",
      "['chiarabine', 'ErmANagIldo']\n",
      "['chiarabino', 'chiarabine']\n",
      "['chiarabine', 'ErmANagIldo', 'chiarabino', 'chiarabine']\n"
     ]
    }
   ],
   "source": [
    "thislist=[\"amati\", \"baffert\", \"chiarabine\", \"chiarabino\", \"ErmANagIldo\", \"uva\"]\n",
    "# 1. modificare l'esercizio cognomi degli alunni stampando per ogni alunno anche il relativo numero di registro\n",
    "for i in range(len(thislist)):\n",
    "  print(i+1,thislist[i])\n",
    "print()\n",
    "# 2. creare una nuova lista che contiene solo i cognomi piu lunghi di 8 caratteri che contengono la lettera E\n",
    "cognomi_lunghi_con_la_E = []\n",
    "for alunno in thislist:\n",
    "  if len(alunno) > 8 and 'e' in alunno.lower():\n",
    "    cognomi_lunghi_con_la_E.append(alunno)\n",
    "print(cognomi_lunghi_con_la_E)\n",
    "# 3. stampare i cognomi ordinati dalla Z alla A\n",
    "thislist.sort(reverse = True)\n",
    "print(thislist)\n",
    "# 4. creare una copia della lista cognomi lunghi con la E\n",
    "copia_della_lista = cognomi_lunghi_con_la_E.copy()\n",
    "print(copia_della_lista)\n",
    "# 5. creare una nuova lista che contiene solo i cognomi che contengono la lettera C\n",
    "cognomi_con_la_C = []\n",
    "for alunno in thislist:\n",
    "  if 'c' in alunno.lower():\n",
    "    cognomi_con_la_C.append(alunno)\n",
    "print(cognomi_con_la_C)\n",
    "# 6. unire le due liste 'cognomi lunghi con la E' e 'cognomi che contengono la lettera C'\n",
    "list_unione = cognomi_lunghi_con_la_E + cognomi_con_la_C\n",
    "print(list_unione)\n"
   ]
  }
 ],
 "metadata": {
  "kernelspec": {
   "display_name": "Python 3.11.0 64-bit",
   "language": "python",
   "name": "python3"
  },
  "language_info": {
   "codemirror_mode": {
    "name": "ipython",
    "version": 3
   },
   "file_extension": ".py",
   "mimetype": "text/x-python",
   "name": "python",
   "nbconvert_exporter": "python",
   "pygments_lexer": "ipython3",
   "version": "3.11.0"
  },
  "orig_nbformat": 4,
  "vscode": {
   "interpreter": {
    "hash": "c261aea317cc0286b3b3261fbba9abdec21eaa57589985bb7a274bf54d6cc0a7"
   }
  }
 },
 "nbformat": 4,
 "nbformat_minor": 2
}
