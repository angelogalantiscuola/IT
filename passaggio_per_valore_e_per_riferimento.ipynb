{
 "cells": [
  {
   "attachments": {},
   "cell_type": "markdown",
   "metadata": {},
   "source": [
    "# Passaggio per valore e per riferimento\n",
    "\n",
    "Non è possibile copiare una lista semplicemente digitando ```lista2 = lista1```, perché: ```lista2``` sarà solo un riferimento a ```lista1```, e le modifiche apportate a ```lista1``` verranno automaticamente apportate anche a ```lista2```.\n",
    "\n",
    "![pass by reference vs pass by value](https://i0.wp.com/www.realpythonproject.com/wp-content/uploads/2021/03/pass-by-reference-vs-pass-by-value-animation.gif?resize=500%2C270&ssl=1)\n",
    "\n",
    "Il passaggio per valore crea una copia dell'oggetto, il passaggio per riferimento crea un collegamento all'oggetto.\n",
    "\n",
    "![pass by reference vs pass by value in RAM](https://i0.wp.com/yasb.altervista.org/blog/wp-content/uploads/2017/02/RAM.png)\n"
   ]
  },
  {
   "attachments": {},
   "cell_type": "markdown",
   "metadata": {},
   "source": [
    "# Passaggio di argomenti ad una funzione\n",
    "In Python gli argomenti vengono passati per valore o per riferimento?\n",
    "- str int float bool sono passati per valore\n",
    "- **list sono passate per riferimento**\n",
    "\n",
    "> in realtà in Python quando viene invocata una funzione gli argomenti vengono passati per assegnazione ma per semplicità ragioniamo su passaggio per valore e per riferimento\n"
   ]
  },
  {
   "cell_type": "code",
   "execution_count": 4,
   "metadata": {},
   "outputs": [
    {
     "name": "stdout",
     "output_type": "stream",
     "text": [
      "6\n",
      "5\n"
     ]
    }
   ],
   "source": [
    "# passaggio per valore\n",
    "def test_function_1(parameter:int):\n",
    "    parameter += 1\n",
    "    print(parameter) # Stampa: 6\n",
    "\n",
    "argument = 5\n",
    "test_function_1(argument)\n",
    "print(argument) # Stampa: 5"
   ]
  },
  {
   "cell_type": "code",
   "execution_count": 5,
   "metadata": {},
   "outputs": [
    {
     "name": "stdout",
     "output_type": "stream",
     "text": [
      "[6]\n",
      "[6]\n"
     ]
    }
   ],
   "source": [
    "# passaggio per riferimento\n",
    "def test_function_2(parameter):\n",
    "    parameter[0] += 1\n",
    "    print(parameter) # Stampa: [6]\n",
    "\n",
    "argument = [5]\n",
    "test_function_2(argument)\n",
    "print(argument) # Stampa: [6]"
   ]
  }
 ],
 "metadata": {
  "kernelspec": {
   "display_name": "Python 3",
   "language": "python",
   "name": "python3"
  },
  "language_info": {
   "codemirror_mode": {
    "name": "ipython",
    "version": 3
   },
   "file_extension": ".py",
   "mimetype": "text/x-python",
   "name": "python",
   "nbconvert_exporter": "python",
   "pygments_lexer": "ipython3",
   "version": "3.8.10"
  },
  "orig_nbformat": 4,
  "vscode": {
   "interpreter": {
    "hash": "3ba29c86e088b735f53f7cbcd1a3d8ef52b253e3bce8d0959a0ba5b57b8ac120"
   }
  }
 },
 "nbformat": 4,
 "nbformat_minor": 2
}
