{
 "cells": [
  {
   "cell_type": "code",
   "execution_count": 5,
   "metadata": {},
   "outputs": [],
   "source": [
    "# write text file\n",
    "\n",
    "file_path = 'files/simple_file.txt'\n",
    "grades = [ 7, 3, 5, 2, 9]\n",
    "\n",
    "with open(file_path, 'w') as f:\n",
    "    for grade in grades:\n",
    "        f.write(str(grade) + '\\n')\n"
   ]
  },
  {
   "cell_type": "code",
   "execution_count": 6,
   "metadata": {},
   "outputs": [],
   "source": [
    "# write csv file\n",
    "\n",
    "file_path = 'files/csv_file.csv'\n",
    "names = ['John', 'Mary', 'Peter', 'Jane', 'Bob']\n",
    "grades = [ 7, 3, 5, 2, 9]\n",
    "\n",
    "with open(file_path, 'w') as f:\n",
    "    for name, grade in zip(names, grades):\n",
    "        f.write(name + ',' + str(grade) + '\\n')"
   ]
  },
  {
   "cell_type": "code",
   "execution_count": 8,
   "metadata": {},
   "outputs": [],
   "source": [
    "# write json file\n",
    "import json\n",
    "\n",
    "file_path = 'files/json_file.json'\n",
    "names = ['John', 'Mary', 'Peter', 'Jane', 'Bob']\n",
    "grades = [ 7, 3, 5, 2, 9]\n",
    "\n",
    "# json file format\n",
    "# [\n",
    "#     {\n",
    "#         \"name\" : \"tizio\",\n",
    "#         \"mark\" : \"7\"\n",
    "#     },\n",
    "#     ...\n",
    "# ]\n"
   ]
  }
 ],
 "metadata": {
  "kernelspec": {
   "display_name": "Python 3",
   "language": "python",
   "name": "python3"
  },
  "language_info": {
   "codemirror_mode": {
    "name": "ipython",
    "version": 3
   },
   "file_extension": ".py",
   "mimetype": "text/x-python",
   "name": "python",
   "nbconvert_exporter": "python",
   "pygments_lexer": "ipython3",
   "version": "3.9.16"
  },
  "orig_nbformat": 4
 },
 "nbformat": 4,
 "nbformat_minor": 2
}
