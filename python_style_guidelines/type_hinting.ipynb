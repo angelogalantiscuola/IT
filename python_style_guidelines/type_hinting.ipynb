{
 "cells": [
  {
   "attachments": {},
   "cell_type": "markdown",
   "metadata": {},
   "source": [
    "# Type Hinting\n",
    "\n",
    "Il type hinting in Python è una funzionalità che permette di specificare il tipo di una variabile o di un parametro di una funzione. Questo tipo di informazione viene utilizzato soprattutto per la documentazione del codice e per la verifica statica dei tipi, ma non viene effettivamente utilizzato a runtime dal linguaggio Python.\n",
    "\n",
    "L'uso del type hinting rende il codice più leggibile e facile da comprendere, in particolare per chi legge il codice per la prima volta. Inoltre, può anche aiutare a identificare eventuali errori di tipo in fase di sviluppo, prima che vengano eseguiti.\n",
    "\n",
    "Per specificare il tipo di una variabile o di un parametro, si usa la sintassi \"nome_variabile: tipo\" o \"nome_parametro: tipo\". Ad esempio:\n",
    "\n",
    "``` python\n",
    "def greet(name: str) -> str:\n",
    "    return \"Hello, \" + name\n",
    "```\n",
    "\n",
    "In questo esempio, viene specificato che la variabile `name` è di tipo `str` e che la funzione restituirà un valore di tipo `str`. Queste informazioni sul tipo possono essere utilizzate dai tool di sviluppo per fornire un supporto più efficiente alla programmazione, come il completamento automatico del codice o la segnalazione di errori.\n",
    "\n",
    "[link per approfondire](https://mypy.readthedocs.io/en/stable/cheat_sheet_py3.html)"
   ]
  },
  {
   "attachments": {},
   "cell_type": "markdown",
   "metadata": {},
   "source": [
    "### Esercizio su type hinting\n",
    "Utilizzare il type hinting nella risoluzione degli esercizi\n",
    "\n",
    "Creare una funzione ```descrizione()``` con due parametri nome ed eta. \n",
    "La funzione restituisce una stringa formattata nel seguente modo: \"nome ha eta anni.\" \n",
    "\n",
    "```descrizione(\"Pippo\",23)```\n",
    "\n",
    "Creare una funzione ```numero_casuale()``` che restituisce un numero casuale tra 0 e 99. La funzione restituisce il numero generato \n",
    "\n",
    "```numero_casuale()```\n",
    "\n",
    "Creare una funzione ```descrizione_eta_casuale()``` con un parametro nome. L'eta e' calcolata in modo casuale La funzione restituisce una stringa formattata nel seguente modo: \"nome ha eta anni.\" \n",
    "\n",
    "```descrizione_eta_casuale(\"Pippo\")```\n",
    "\n",
    "Creare una funzione ```descrizione_casuale()```. Il nome e' scelto in modo casuale da una lista di nomi interna alla fuzione. L'eta e' calcolata in modo casuale La funzione restituisce una stringa formattata nel seguente modo: \"nome ha eta anni.\" \n",
    "\n",
    "```descrizione_casuale()```"
   ]
  },
  {
   "cell_type": "code",
   "execution_count": 1,
   "metadata": {},
   "outputs": [],
   "source": [
    "# soluzione con riutilizzo delle funzioni\n",
    "import random\n",
    "\n",
    "def descrizione(nome: str, eta: int) -> str:\n",
    "    return f\"{nome} ha {eta} anni.\"\n",
    "\n",
    "def numero_casuale() -> int:\n",
    "    return random.randint(0, 99)\n",
    "\n",
    "def descrizione_eta_casuale(nome: str) -> str:\n",
    "    eta = numero_casuale()\n",
    "    return descrizione(nome, eta)\n",
    "\n",
    "def descrizione_casuale() -> str:\n",
    "    nomi = [\"Pippo\", \"Pluto\", \"Paperino\", \"Topolino\", \"Minnie\"]\n",
    "    nome = random.choice(nomi)\n",
    "    eta = numero_casuale()\n",
    "    return descrizione(nome, eta)"
   ]
  },
  {
   "cell_type": "code",
   "execution_count": 4,
   "metadata": {},
   "outputs": [
    {
     "name": "stdout",
     "output_type": "stream",
     "text": [
      "Pippo ha 23 anni.\n",
      "18\n",
      "Pippo ha 39 anni.\n",
      "Minnie ha 76 anni.\n"
     ]
    }
   ],
   "source": [
    "# esempio di utilizzo\n",
    "print(descrizione(\"Pippo\", 23))\n",
    "print(numero_casuale())\n",
    "print(descrizione_eta_casuale(\"Pippo\"))\n",
    "print(descrizione_casuale())"
   ]
  },
  {
   "cell_type": "code",
   "execution_count": 3,
   "metadata": {},
   "outputs": [
    {
     "name": "stdout",
     "output_type": "stream",
     "text": [
      "All tests passed.\n"
     ]
    }
   ],
   "source": [
    "# test cases\n",
    "def test_descrizione():\n",
    "    assert descrizione(\"Pippo\", 23) == \"Pippo ha 23 anni.\"\n",
    "    assert descrizione(\"Pluto\", 42) == \"Pluto ha 42 anni.\"\n",
    "\n",
    "def test_numero_casuale():\n",
    "    result = numero_casuale()\n",
    "    assert result >= 0 and result <= 99\n",
    "\n",
    "def test_descrizione_eta_casuale():\n",
    "    result = descrizione_eta_casuale(\"Pippo\")\n",
    "    assert result.startswith(\"Pippo ha\") and result.endswith(\"anni.\")\n",
    "\n",
    "def test_descrizione_casuale():\n",
    "    result = descrizione_casuale()\n",
    "    assert result.endswith(\"anni.\")\n",
    "\n",
    "test_descrizione()\n",
    "test_numero_casuale()\n",
    "test_descrizione_eta_casuale()\n",
    "test_descrizione_casuale()\n",
    "print(\"All tests passed.\")"
   ]
  }
 ],
 "metadata": {
  "kernelspec": {
   "display_name": "Python 3",
   "language": "python",
   "name": "python3"
  },
  "language_info": {
   "codemirror_mode": {
    "name": "ipython",
    "version": 3
   },
   "file_extension": ".py",
   "mimetype": "text/x-python",
   "name": "python",
   "nbconvert_exporter": "python",
   "pygments_lexer": "ipython3",
   "version": "3.8.10"
  },
  "orig_nbformat": 4,
  "vscode": {
   "interpreter": {
    "hash": "3ba29c86e088b735f53f7cbcd1a3d8ef52b253e3bce8d0959a0ba5b57b8ac120"
   }
  }
 },
 "nbformat": 4,
 "nbformat_minor": 2
}
