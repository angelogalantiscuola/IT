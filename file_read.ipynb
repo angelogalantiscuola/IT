{
 "cells": [
  {
   "cell_type": "code",
   "execution_count": 1,
   "metadata": {},
   "outputs": [
    {
     "name": "stdout",
     "output_type": "stream",
     "text": [
      "voto: 8\n",
      "voto: 4\n",
      "voto: 2\n",
      "voto: 7\n",
      "voto: 3\n",
      "voto: 2\n",
      "voto: 7\n",
      "voto: 5\n",
      "voto: 7\n",
      "voto: 4\n"
     ]
    }
   ],
   "source": [
    "# read a file line by line\n",
    "\n",
    "filename = 'files/simple_file.txt'\n",
    "with open(filename) as file:\n",
    "    for line in file:\n",
    "        voto = line.rstrip()\n",
    "        print(f'voto: {voto}')\n"
   ]
  },
  {
   "cell_type": "code",
   "execution_count": 2,
   "metadata": {},
   "outputs": [
    {
     "name": "stdout",
     "output_type": "stream",
     "text": [
      "alunno tizio ha preso 7\n",
      "alunno caio ha preso 4\n",
      "alunno sempronio ha preso 6\n"
     ]
    }
   ],
   "source": [
    "# read a file line by line\n",
    "\n",
    "import os\n",
    "file_path = 'files/text_file.txt'\n",
    "\n",
    "# controlla se il file esiste\n",
    "if os.path.exists(file_path):\n",
    "    # se esiste aprilo in lettura\n",
    "    f = open(file_path, \"r\")\n",
    "\n",
    "    while True:\n",
    "        # leggi una riga alla volta\n",
    "        line  = f.readline()\n",
    "        if line == \"\":\n",
    "            break\n",
    "        # *non abbiamo ancora visto le liste\n",
    "        nome = line.strip().split(\" \")[0]\n",
    "        voto = line.strip().split(\" \")[1]\n",
    "        print(f'alunno {nome} ha preso {voto}')\n",
    "    f.close()\n",
    "else:\n",
    "  print(\"Il file non esiste\")\n"
   ]
  },
  {
   "cell_type": "code",
   "execution_count": 14,
   "metadata": {},
   "outputs": [
    {
     "name": "stdout",
     "output_type": "stream",
     "text": [
      "\u001b[32mprint all lines\u001b[0m\n",
      "['tizio,7', 'caio,4', 'sempronio,6']\n",
      "\u001b[32mprint the content of the first line\u001b[0m\n",
      "['tizio', '7']\n",
      "name is tizio and age is 7\n"
     ]
    }
   ],
   "source": [
    "# read csv file line by line\n",
    "import os\n",
    "from termcolor import colored\n",
    "file_path = 'files/csv_file.csv'\n",
    "\n",
    "# controlla se il file esiste\n",
    "if os.path.exists(file_path):\n",
    "    # se esiste aprilo in lettura\n",
    "    f = open(file_path, \"r\")\n",
    "\n",
    "    # read all lines and save in a list \n",
    "    lines = f.readlines()\n",
    "    # remove \\n from each line\n",
    "    lines = [line.strip() for line in lines]\n",
    "    print(colored('print all lines', 'green'))\n",
    "    print(lines)\n",
    "\n",
    "    # for the first line, split the line by comma\n",
    "    # and save in a list\n",
    "    first_line = lines[0].split(\",\")\n",
    "    print(colored('print the content of the first line', 'green'))\n",
    "    print(first_line)\n",
    "    print(f'name is {first_line[0]} and age is {first_line[1]}')\n"
   ]
  },
  {
   "cell_type": "code",
   "execution_count": 23,
   "metadata": {},
   "outputs": [
    {
     "name": "stdout",
     "output_type": "stream",
     "text": [
      "[{'name': 'tizio', 'mark': '7'}, {'name': 'caio', 'mark': '4'}, {'name': 'sempronio', 'mark': '6'}]\n",
      "<class 'list'>\n",
      "{'name': 'tizio', 'mark': '7'}\n",
      "<class 'dict'>\n",
      "tizio\n",
      "<class 'str'>\n"
     ]
    }
   ],
   "source": [
    "# read json file line by line\n",
    "import os\n",
    "import json\n",
    "from termcolor import colored\n",
    "file_path = 'files/json_file.json'\n",
    "\n",
    "# controlla se il file esiste\n",
    "if os.path.exists(file_path):\n",
    "    # se esiste aprilo in lettura\n",
    "    f = open(file_path, \"r\")\n",
    "\n",
    "    # read JSON file and parse it\n",
    "    data = json.load(f)\n",
    "    print(data)\n",
    "    print(type(data))\n",
    "    # print the first element of the list\n",
    "    print(data[0])\n",
    "    print(type(data[0]))\n",
    "    # IMPORTANT: data[0] is a dictionary (study the dictionary structure)\n",
    "    # print the name of the first element of the list\n",
    "    print(data[0]['name'])\n",
    "    print(type(data[0]['name']))\n"
   ]
  },
  {
   "cell_type": "code",
   "execution_count": null,
   "metadata": {},
   "outputs": [],
   "source": [
    "# check if a file exists if not create it\n",
    "import os\n",
    "from termcolor import colored\n",
    "\n",
    "file_path = 'files/new_file.txt'\n",
    "\n",
    "def create_file(file_path):\n",
    "    if os.path.exists(file_path):\n",
    "        print(colored('file already exists', 'red'))\n",
    "    else:\n",
    "        f = open(file_path, \"w\")\n",
    "        f.write(\"Hello World\")\n",
    "        f.close()\n",
    "        print(colored('file created', 'green'))"
   ]
  }
 ],
 "metadata": {
  "kernelspec": {
   "display_name": "Python 3",
   "language": "python",
   "name": "python3"
  },
  "language_info": {
   "codemirror_mode": {
    "name": "ipython",
    "version": 3
   },
   "file_extension": ".py",
   "mimetype": "text/x-python",
   "name": "python",
   "nbconvert_exporter": "python",
   "pygments_lexer": "ipython3",
   "version": "3.9.16"
  },
  "orig_nbformat": 4
 },
 "nbformat": 4,
 "nbformat_minor": 2
}
