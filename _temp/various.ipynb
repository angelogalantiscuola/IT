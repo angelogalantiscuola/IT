{
 "cells": [
  {
   "cell_type": "markdown",
   "id": "75c77f12-41a0-4f0c-a70e-dbfbd46448d1",
   "metadata": {},
   "source": [
    "map() is a function that applies a specific function to every item of a sequence or collection, and returns a list of the results.\n"
   ]
  },
  {
   "cell_type": "code",
   "execution_count": 1,
   "id": "41884824-9e5b-4f36-8390-511ab20255d0",
   "metadata": {},
   "outputs": [
    {
     "name": "stdout",
     "output_type": "stream",
     "text": [
      "[4, 4, 3, 2, 1, 1, 1, 2]\n"
     ]
    }
   ],
   "source": [
    "tickers = ['AAPL','GOOG','IBM','FB','F','V', 'G', 'GE']\n",
    "print(list(map(len,tickers)))\n"
   ]
  },
  {
   "cell_type": "markdown",
   "id": "e50c68cc-f278-43c4-b7a7-98fe39082ab1",
   "metadata": {},
   "source": [
    "The lambda operator is a way to create small anonymous functions. These functions are just needed where they have been created. For example:\n"
   ]
  },
  {
   "cell_type": "code",
   "execution_count": 4,
   "id": "9369cc55-67fa-4e86-9102-9627e45d4a65",
   "metadata": {},
   "outputs": [
    {
     "name": "stdout",
     "output_type": "stream",
     "text": [
      "[0, 1, 4, 9, 16, 25, 36, 49, 64, 81]\n"
     ]
    }
   ],
   "source": [
    "print(list(map(lambda x: x**2, range(10))))\n"
   ]
  },
  {
   "cell_type": "markdown",
   "id": "739bf64a-e521-4bf3-8d6a-c72c5b6025de",
   "metadata": {},
   "source": [
    "NumPy is the core library for scientific computing in Python. It provides a high-performance multidimensional array object, and tools for working with these arrays. It also has strong integration with Pandas, which is another powerful tool for manipulating financial data.\n"
   ]
  },
  {
   "cell_type": "code",
   "execution_count": 6,
   "id": "f780c9ff-a961-4c7a-9a3c-ddbda906cfcc",
   "metadata": {},
   "outputs": [
    {
     "name": "stdout",
     "output_type": "stream",
     "text": [
      "[143.73 145.83 143.68 144.02 143.5  142.62] <class 'numpy.ndarray'>\n"
     ]
    }
   ],
   "source": [
    "import numpy as np\n",
    "price_list = [143.73, 145.83, 143.68, 144.02, 143.5, 142.62]\n",
    "price_array = np.array(price_list)\n",
    "print(price_array, type(price_array))\n"
   ]
  },
  {
   "cell_type": "markdown",
   "id": "4d22e923-7940-444b-b1ac-b4017f8c9df1",
   "metadata": {},
   "source": [
    "If we pass np.array() a list of lists, it will create a 2-dimensional array."
   ]
  },
  {
   "cell_type": "code",
   "execution_count": 7,
   "id": "234c417f-4a08-437a-917c-174564e96a6d",
   "metadata": {},
   "outputs": [
    {
     "name": "stdout",
     "output_type": "stream",
     "text": [
      "[[1 3]\n",
      " [2 4]] <class 'numpy.ndarray'>\n"
     ]
    }
   ],
   "source": [
    "Ar = np.array([[1,3], [2,4]])\n",
    "print(Ar, type(Ar))\n"
   ]
  },
  {
   "cell_type": "markdown",
   "id": "a66ef0c9-c0ec-4346-83c9-aaa7b6d19bdd",
   "metadata": {},
   "source": [
    "Pandas is one of the most powerful tools for dealing with financial data.\n",
    "Series is a one-dimensional labeled array capable of holding any data type (integers, strings, float, Python object, etc.)"
   ]
  },
  {
   "cell_type": "code",
   "execution_count": 10,
   "id": "9eb4808b-6c03-40ed-8371-aba884611fa8",
   "metadata": {},
   "outputs": [
    {
     "name": "stdout",
     "output_type": "stream",
     "text": [
      "a    143.73\n",
      "b    145.83\n",
      "c    143.68\n",
      "dtype: float64\n"
     ]
    }
   ],
   "source": [
    "import pandas as pd\n",
    "price = [143.73, 145.83, 143.68]\n",
    "s = pd.Series(price, index = ['a', 'b', 'c'])\n",
    "print(s)\n"
   ]
  },
  {
   "cell_type": "markdown",
   "id": "b181ef8a-aba8-4dab-a398-7f3587041a77",
   "metadata": {},
   "source": [
    "Pandas has a built-in function specifically for creating date indices: pd.date_range().\n",
    "Series are usually accessed using the iloc[] and loc[] methods. iloc[] is used to access elements by integer index, and loc[] is used to access the index of the series.\n",
    "The DataFrame is the most commonly used data structure in Pandas. It is essentially a table, just like an Excel spreadsheet.\n"
   ]
  }
 ],
 "metadata": {
  "kernelspec": {
   "display_name": "Python 3 (ipykernel)",
   "language": "python",
   "name": "python3"
  },
  "language_info": {
   "codemirror_mode": {
    "name": "ipython",
    "version": 3
   },
   "file_extension": ".py",
   "mimetype": "text/x-python",
   "name": "python",
   "nbconvert_exporter": "python",
   "pygments_lexer": "ipython3",
   "version": "3.8.10"
  }
 },
 "nbformat": 4,
 "nbformat_minor": 5
}
