{
 "cells": [
  {
   "attachments": {},
   "cell_type": "markdown",
   "metadata": {},
   "source": [
    "# Formattazione del codice in Python\n",
    "\n",
    "## PEP 8\n",
    "Le linee guida PEP 8 sono un insieme di convenzioni per la formattazione del codice Python. Sono state create per garantire che il codice sia leggibile e mantenibile da parte di tutti gli sviluppatori che lavorano su un progetto.\n",
    "\n",
    "Le linee guida PEP 8 coprono molte aree della formattazione del codice, tra cui la lunghezza delle righe, l'uso degli spazi, la denominazione delle variabili e delle funzioni, e molto altro ancora. Il rispetto di queste convenzioni aiuta a creare un codice che sia esteticamente gradevole e facile da comprendere, anche per gli sviluppatori che non hanno partecipato alla creazione originale del progetto.\n",
    "\n",
    "### Alcune delle convenzioni più importanti \n",
    "1. Nomi:\n",
    "    - I nomi delle variabili e delle funzioni devono essere descrittivi e usare la convenzione \"snake_case\".\n",
    "    - I nomi delle classi devono usare la convenzione \"CamelCase\".\n",
    "2. Righe vuote:\n",
    "    - Tra le funzioni e le classi, si devono inserire due righe vuote.\n",
    "    - Tra le funzioni all'interno di una classe, si devono inserire una riga vuota.\n",
    "3. Massimo numero di caratteri per riga:\n",
    "    - Il massimo numero di caratteri consentiti per riga è di 79 caratteri.\n",
    "4. Indentazione:\n",
    "    - Si usa l'indentazione di 4 spazi.\n",
    "    - Non si devono usare tabulazioni.\n",
    "5. Commenti:\n",
    "    - I commenti devono essere descrittivi e utili per capire il codice.\n",
    "    - I commenti devono essere scritti in inglese.\n",
    "    - Ogni riga di commento deve avere un prefisso di \"#\".\n",
    "\n",
    "[link per approfondire](https://realpython.com/python-pep8/#documentation-strings)\n",
    "\n",
    "### Type Hinting\n",
    "\n",
    "Il type hinting in Python è una funzionalità che permette di specificare il tipo di una variabile o di un parametro di una funzione. Questo tipo di informazione viene utilizzato soprattutto per la documentazione del codice e per la verifica statica dei tipi, ma non viene effettivamente utilizzato a runtime dal linguaggio Python.\n",
    "\n",
    "L'uso del type hinting rende il codice più leggibile e facile da comprendere, in particolare per chi legge il codice per la prima volta. Inoltre, può anche aiutare a identificare eventuali errori di tipo in fase di sviluppo, prima che vengano eseguiti.\n",
    "\n",
    "Per specificare il tipo di una variabile o di un parametro, si usa la sintassi \"nome_variabile: tipo\" o \"nome_parametro: tipo\". Ad esempio:\n",
    "\n",
    "```\n",
    "def greet(name: str) -> str:\n",
    "    return \"Hello, \" + name\n",
    "```\n",
    "\n",
    "In questo esempio, viene specificato che la variabile `name` è di tipo `str` e che la funzione restituirà un valore di tipo `str`. Queste informazioni sul tipo possono essere utilizzate dai tool di sviluppo per fornire un supporto più efficiente alla programmazione, come il completamento automatico del codice o la segnalazione di errori.\n",
    "\n",
    "[link per approfondire](https://mypy.readthedocs.io/en/stable/cheat_sheet_py3.html)"
   ]
  }
 ],
 "metadata": {
  "kernelspec": {
   "display_name": "Python 3",
   "language": "python",
   "name": "python3"
  },
  "language_info": {
   "name": "python",
   "version": "3.11.0"
  },
  "orig_nbformat": 4,
  "vscode": {
   "interpreter": {
    "hash": "c261aea317cc0286b3b3261fbba9abdec21eaa57589985bb7a274bf54d6cc0a7"
   }
  }
 },
 "nbformat": 4,
 "nbformat_minor": 2
}
