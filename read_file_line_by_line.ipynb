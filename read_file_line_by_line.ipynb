{
 "cells": [
  {
   "cell_type": "code",
   "execution_count": 1,
   "metadata": {},
   "outputs": [
    {
     "name": "stdout",
     "output_type": "stream",
     "text": [
      "voto: 8\n",
      "voto: 4\n",
      "voto: 2\n",
      "voto: 7\n",
      "voto: 3\n",
      "voto: 2\n",
      "voto: 7\n",
      "voto: 5\n",
      "voto: 7\n",
      "voto: 4\n"
     ]
    }
   ],
   "source": [
    "# read a file line by line\n",
    "\n",
    "filename = 'read_file_line_by_line_1.txt'\n",
    "with open(filename) as file:\n",
    "    for line in file:\n",
    "        voto = line.rstrip()\n",
    "        print(f'voto: {voto}')\n"
   ]
  },
  {
   "cell_type": "code",
   "execution_count": 5,
   "metadata": {},
   "outputs": [
    {
     "name": "stdout",
     "output_type": "stream",
     "text": [
      "alunno tizio ha preso 7\n",
      "alunno caio ha preso 4\n",
      "alunno sempronio ha preso 6\n"
     ]
    }
   ],
   "source": [
    "# read a file line by line\n",
    "\n",
    "import os\n",
    "file_path = './read_file_line_by_line_2.txt'\n",
    "\n",
    "# controlla se il file esiste\n",
    "if os.path.exists(file_path):\n",
    "    # se esiste aprilo in lettura\n",
    "    f = open(file_path, \"r\")\n",
    "\n",
    "    while True:\n",
    "        # leggi una riga alla volta\n",
    "        line  = f.readline()\n",
    "        if line == \"\":\n",
    "            break\n",
    "        # *non abbiamo ancora visto le liste\n",
    "        nome = line.strip().split(\" \")[0]\n",
    "        voto = line.strip().split(\" \")[1]\n",
    "        print(f'alunno {nome} ha preso {voto}')\n",
    "    f.close()\n",
    "else:\n",
    "  print(\"Il file non esiste\")\n"
   ]
  }
 ],
 "metadata": {
  "kernelspec": {
   "display_name": "Python 3",
   "language": "python",
   "name": "python3"
  },
  "language_info": {
   "codemirror_mode": {
    "name": "ipython",
    "version": 3
   },
   "file_extension": ".py",
   "mimetype": "text/x-python",
   "name": "python",
   "nbconvert_exporter": "python",
   "pygments_lexer": "ipython3",
   "version": "3.9.16"
  },
  "orig_nbformat": 4
 },
 "nbformat": 4,
 "nbformat_minor": 2
}
