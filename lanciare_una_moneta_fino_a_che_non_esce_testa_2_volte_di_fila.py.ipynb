{
 "cells": [
  {
   "cell_type": "code",
   "execution_count": 3,
   "metadata": {},
   "outputs": [
    {
     "name": "stdout",
     "output_type": "stream",
     "text": [
      "\n",
      "testa\t lancio corrente\n",
      "\n",
      "croce\t lancio corrente\n",
      "testa\t lancio precedente\n",
      "\n",
      "croce\t lancio corrente\n",
      "croce\t lancio precedente\n",
      "\n",
      "testa\t lancio corrente\n",
      "croce\t lancio precedente\n",
      "\n",
      "croce\t lancio corrente\n",
      "testa\t lancio precedente\n",
      "\n",
      "testa\t lancio corrente\n",
      "croce\t lancio precedente\n",
      "\n",
      "testa\t lancio corrente\n",
      "testa\t lancio precedente\n",
      "\n",
      "\n",
      "uscita testa 2 volte di fila\n",
      "\n",
      "\n"
     ]
    }
   ],
   "source": [
    "# lanciare_una_moneta_fino_a_che_non_esce_testa_2_volte_di_fila.py\n",
    "\n",
    "# codifica\n",
    "# 0 = testa\n",
    "# 1 = croce\n",
    "import random\n",
    "\n",
    "primo_lancio = True\n",
    "\n",
    "while (True):\n",
    "    print(f'')\n",
    "\n",
    "    esito_lancio = random.randint(0,1)\n",
    "\n",
    "    # lancia la moneta\n",
    "    if esito_lancio == 0:\n",
    "        print(f'testa\\t lancio corrente')\n",
    "    else:\n",
    "        print(f'croce\\t lancio corrente')\n",
    "\n",
    "    # al primo lancio non effettuare nessun controllo\n",
    "    if primo_lancio:\n",
    "        primo_lancio = False\n",
    "    # per tutti i lanci tranne il primo\n",
    "    else:\n",
    "        # stampa l'esito del lancio precedente\n",
    "        if esito_lancio_precedente == 0:\n",
    "            print(f'testa\\t lancio precedente')\n",
    "        else:\n",
    "            print(f'croce\\t lancio precedente')\n",
    "\n",
    "        # controlla se la condizione e' verificata\n",
    "        if esito_lancio == 0 and esito_lancio_precedente == 0:\n",
    "            print(f'\\nuscita testa 2 volte di fila\\n\\n')\n",
    "            break\n",
    "\n",
    "    # salva il valore del lancio corrente in lancio precedente per l'iterazione successiva\n",
    "    esito_lancio_precedente = esito_lancio"
   ]
  }
 ],
 "metadata": {
  "kernelspec": {
   "display_name": "Python 3",
   "language": "python",
   "name": "python3"
  },
  "language_info": {
   "codemirror_mode": {
    "name": "ipython",
    "version": 3
   },
   "file_extension": ".py",
   "mimetype": "text/x-python",
   "name": "python",
   "nbconvert_exporter": "python",
   "pygments_lexer": "ipython3",
   "version": "3.8.10"
  },
  "orig_nbformat": 4,
  "vscode": {
   "interpreter": {
    "hash": "3ba29c86e088b735f53f7cbcd1a3d8ef52b253e3bce8d0959a0ba5b57b8ac120"
   }
  }
 },
 "nbformat": 4,
 "nbformat_minor": 2
}
