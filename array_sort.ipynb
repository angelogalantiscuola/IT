{
 "cells": [
  {
   "cell_type": "code",
   "execution_count": 1,
   "metadata": {},
   "outputs": [
    {
     "name": "stdout",
     "output_type": "stream",
     "text": [
      "[5 3 2 4 1]\n",
      "[1 3 2 4 5]\n"
     ]
    }
   ],
   "source": [
    "import numpy as np\n",
    "\n",
    "# ordinare il vettore \n",
    "\n",
    "\n",
    "# semplifico: trova il minimo del vettore\n",
    "def trova_minimo(vettore: np.ndarray) -> int:\n",
    "    minimo = vettore[0]\n",
    "    for i in range(len(vettore)):\n",
    "        if vettore[i] < minimo:\n",
    "            minimo = vettore[i]\n",
    "    return minimo\n",
    "\n",
    "# no: trova la posizione del minimo del vettore\n",
    "def trova_posizione_minimo(vettore: np.ndarray) -> int:\n",
    "    minimo = vettore[0]\n",
    "    posizione_minimo = 0\n",
    "    for i in range(len(vettore)):\n",
    "        if vettore[i] < minimo:\n",
    "            minimo = vettore[i]\n",
    "            posizione_minimo = i\n",
    "    return posizione_minimo\n",
    "\n",
    "# semplifico: scambia posizione recente con la posizione del minimo\n",
    "def scambia_posizioni(\n",
    "        vettore: np.ndarray, \n",
    "        posizione_minimo: int,\n",
    "        posizione_recente: int) -> int:\n",
    "    temp = vettore[posizione_recente]\n",
    "    vettore[posizione_recente] = vettore[posizione_minimo]\n",
    "    vettore[posizione_minimo] = temp\n",
    "    return vettore\n",
    "\n",
    "lista = [5, 3, 2, 4, 1]\n",
    "vettore = np.array(lista)\n",
    "\n",
    "print(vettore)\n",
    "posizione_minimo = trova_posizione_minimo(vettore)\n",
    "vettore = scambia_posizioni(vettore,posizione_minimo,0)\n",
    "print(vettore)\n",
    "# da finire ...\n"
   ]
  },
  {
   "cell_type": "code",
   "execution_count": 4,
   "metadata": {},
   "outputs": [
    {
     "name": "stdout",
     "output_type": "stream",
     "text": [
      "[5 3 2 4 1]\n",
      "[1 2 3 4 5]\n"
     ]
    }
   ],
   "source": [
    "def selection_sort(lst):\n",
    "    n = len(lst)\n",
    "    for i in range(n - 1):\n",
    "        min_index = find_min(lst, i, n)\n",
    "        swap_elements(lst, i, min_index)\n",
    "\n",
    "def find_min(lst, start, end):\n",
    "    min_index = start\n",
    "    for j in range(start + 1, end):\n",
    "        if lst[j] < lst[min_index]:\n",
    "            min_index = j\n",
    "    return min_index\n",
    "\n",
    "def swap_elements(lst, i, j):\n",
    "    lst[i], lst[j] = lst[j], lst[i]\n",
    "    \n",
    "lista = [5, 3, 2, 4, 1]\n",
    "vettore = np.array(lista)\n",
    "print(vettore)\n",
    "selection_sort(vettore)\n",
    "print(vettore)\n"
   ]
  }
 ],
 "metadata": {
  "kernelspec": {
   "display_name": "Python 3",
   "language": "python",
   "name": "python3"
  },
  "language_info": {
   "codemirror_mode": {
    "name": "ipython",
    "version": 3
   },
   "file_extension": ".py",
   "mimetype": "text/x-python",
   "name": "python",
   "nbconvert_exporter": "python",
   "pygments_lexer": "ipython3",
   "version": "3.11.3"
  },
  "orig_nbformat": 4
 },
 "nbformat": 4,
 "nbformat_minor": 2
}
